{
 "cells": [
  {
   "cell_type": "markdown",
   "id": "ee765895",
   "metadata": {},
   "source": [
    "## Análise a fim de orientar o tipo do próximo filme a ser desenvolvido em Hollywood\n",
    "\n",
    "ML com aprendizagem em regressão, pois analisaremos dados passados e atuais, para decisão futura."
   ]
  },
  {
   "cell_type": "markdown",
   "id": "e02e3af8",
   "metadata": {},
   "source": [
    "## Importar Bibliotecas e Carregar os Dados"
   ]
  },
  {
   "cell_type": "code",
   "execution_count": 189,
   "id": "7fc7dcf6",
   "metadata": {},
   "outputs": [],
   "source": [
    "import pandas as pd\n",
    "\n"
   ]
  },
  {
   "cell_type": "code",
   "execution_count": 190,
   "id": "e4d553f1",
   "metadata": {},
   "outputs": [
    {
     "data": {
      "text/html": [
       "<div>\n",
       "<style scoped>\n",
       "    .dataframe tbody tr th:only-of-type {\n",
       "        vertical-align: middle;\n",
       "    }\n",
       "\n",
       "    .dataframe tbody tr th {\n",
       "        vertical-align: top;\n",
       "    }\n",
       "\n",
       "    .dataframe thead th {\n",
       "        text-align: right;\n",
       "    }\n",
       "</style>\n",
       "<table border=\"1\" class=\"dataframe\">\n",
       "  <thead>\n",
       "    <tr style=\"text-align: right;\">\n",
       "      <th></th>\n",
       "      <th>id</th>\n",
       "      <th>Series_Title</th>\n",
       "      <th>Released_Year</th>\n",
       "      <th>Certificate</th>\n",
       "      <th>Runtime</th>\n",
       "      <th>Genre</th>\n",
       "      <th>IMDB_Rating</th>\n",
       "      <th>Overview</th>\n",
       "      <th>Meta_score</th>\n",
       "      <th>Director</th>\n",
       "      <th>Star1</th>\n",
       "      <th>Star2</th>\n",
       "      <th>Star3</th>\n",
       "      <th>Star4</th>\n",
       "      <th>No_of_Votes</th>\n",
       "      <th>Gross</th>\n",
       "    </tr>\n",
       "  </thead>\n",
       "  <tbody>\n",
       "    <tr>\n",
       "      <th>0</th>\n",
       "      <td>1</td>\n",
       "      <td>The Godfather</td>\n",
       "      <td>1972</td>\n",
       "      <td>A</td>\n",
       "      <td>175 min</td>\n",
       "      <td>Crime, Drama</td>\n",
       "      <td>9.2</td>\n",
       "      <td>An organized crime dynasty's aging patriarch t...</td>\n",
       "      <td>100.0</td>\n",
       "      <td>Francis Ford Coppola</td>\n",
       "      <td>Marlon Brando</td>\n",
       "      <td>Al Pacino</td>\n",
       "      <td>James Caan</td>\n",
       "      <td>Diane Keaton</td>\n",
       "      <td>1620367</td>\n",
       "      <td>134,966,411</td>\n",
       "    </tr>\n",
       "    <tr>\n",
       "      <th>1</th>\n",
       "      <td>2</td>\n",
       "      <td>The Dark Knight</td>\n",
       "      <td>2008</td>\n",
       "      <td>UA</td>\n",
       "      <td>152 min</td>\n",
       "      <td>Action, Crime, Drama</td>\n",
       "      <td>9.0</td>\n",
       "      <td>When the menace known as the Joker wreaks havo...</td>\n",
       "      <td>84.0</td>\n",
       "      <td>Christopher Nolan</td>\n",
       "      <td>Christian Bale</td>\n",
       "      <td>Heath Ledger</td>\n",
       "      <td>Aaron Eckhart</td>\n",
       "      <td>Michael Caine</td>\n",
       "      <td>2303232</td>\n",
       "      <td>534,858,444</td>\n",
       "    </tr>\n",
       "    <tr>\n",
       "      <th>2</th>\n",
       "      <td>3</td>\n",
       "      <td>The Godfather: Part II</td>\n",
       "      <td>1974</td>\n",
       "      <td>A</td>\n",
       "      <td>202 min</td>\n",
       "      <td>Crime, Drama</td>\n",
       "      <td>9.0</td>\n",
       "      <td>The early life and career of Vito Corleone in ...</td>\n",
       "      <td>90.0</td>\n",
       "      <td>Francis Ford Coppola</td>\n",
       "      <td>Al Pacino</td>\n",
       "      <td>Robert De Niro</td>\n",
       "      <td>Robert Duvall</td>\n",
       "      <td>Diane Keaton</td>\n",
       "      <td>1129952</td>\n",
       "      <td>57,300,000</td>\n",
       "    </tr>\n",
       "    <tr>\n",
       "      <th>3</th>\n",
       "      <td>4</td>\n",
       "      <td>12 Angry Men</td>\n",
       "      <td>1957</td>\n",
       "      <td>U</td>\n",
       "      <td>96 min</td>\n",
       "      <td>Crime, Drama</td>\n",
       "      <td>9.0</td>\n",
       "      <td>A jury holdout attempts to prevent a miscarria...</td>\n",
       "      <td>96.0</td>\n",
       "      <td>Sidney Lumet</td>\n",
       "      <td>Henry Fonda</td>\n",
       "      <td>Lee J. Cobb</td>\n",
       "      <td>Martin Balsam</td>\n",
       "      <td>John Fiedler</td>\n",
       "      <td>689845</td>\n",
       "      <td>4,360,000</td>\n",
       "    </tr>\n",
       "    <tr>\n",
       "      <th>4</th>\n",
       "      <td>5</td>\n",
       "      <td>The Lord of the Rings: The Return of the King</td>\n",
       "      <td>2003</td>\n",
       "      <td>U</td>\n",
       "      <td>201 min</td>\n",
       "      <td>Action, Adventure, Drama</td>\n",
       "      <td>8.9</td>\n",
       "      <td>Gandalf and Aragorn lead the World of Men agai...</td>\n",
       "      <td>94.0</td>\n",
       "      <td>Peter Jackson</td>\n",
       "      <td>Elijah Wood</td>\n",
       "      <td>Viggo Mortensen</td>\n",
       "      <td>Ian McKellen</td>\n",
       "      <td>Orlando Bloom</td>\n",
       "      <td>1642758</td>\n",
       "      <td>377,845,905</td>\n",
       "    </tr>\n",
       "  </tbody>\n",
       "</table>\n",
       "</div>"
      ],
      "text/plain": [
       "   id                                   Series_Title Released_Year  \\\n",
       "0   1                                  The Godfather          1972   \n",
       "1   2                                The Dark Knight          2008   \n",
       "2   3                         The Godfather: Part II          1974   \n",
       "3   4                                   12 Angry Men          1957   \n",
       "4   5  The Lord of the Rings: The Return of the King          2003   \n",
       "\n",
       "  Certificate  Runtime                     Genre  IMDB_Rating  \\\n",
       "0           A  175 min              Crime, Drama          9.2   \n",
       "1          UA  152 min      Action, Crime, Drama          9.0   \n",
       "2           A  202 min              Crime, Drama          9.0   \n",
       "3           U   96 min              Crime, Drama          9.0   \n",
       "4           U  201 min  Action, Adventure, Drama          8.9   \n",
       "\n",
       "                                            Overview  Meta_score  \\\n",
       "0  An organized crime dynasty's aging patriarch t...       100.0   \n",
       "1  When the menace known as the Joker wreaks havo...        84.0   \n",
       "2  The early life and career of Vito Corleone in ...        90.0   \n",
       "3  A jury holdout attempts to prevent a miscarria...        96.0   \n",
       "4  Gandalf and Aragorn lead the World of Men agai...        94.0   \n",
       "\n",
       "               Director           Star1            Star2          Star3  \\\n",
       "0  Francis Ford Coppola   Marlon Brando        Al Pacino     James Caan   \n",
       "1     Christopher Nolan  Christian Bale     Heath Ledger  Aaron Eckhart   \n",
       "2  Francis Ford Coppola       Al Pacino   Robert De Niro  Robert Duvall   \n",
       "3          Sidney Lumet     Henry Fonda      Lee J. Cobb  Martin Balsam   \n",
       "4         Peter Jackson     Elijah Wood  Viggo Mortensen   Ian McKellen   \n",
       "\n",
       "           Star4  No_of_Votes        Gross  \n",
       "0   Diane Keaton      1620367  134,966,411  \n",
       "1  Michael Caine      2303232  534,858,444  \n",
       "2   Diane Keaton      1129952   57,300,000  \n",
       "3   John Fiedler       689845    4,360,000  \n",
       "4  Orlando Bloom      1642758  377,845,905  "
      ]
     },
     "execution_count": 190,
     "metadata": {},
     "output_type": "execute_result"
    }
   ],
   "source": [
    "series = pd.read_csv(\"./series_imdb.csv\")\n",
    "\n",
    "series.head()"
   ]
  },
  {
   "cell_type": "markdown",
   "id": "8f3deef0",
   "metadata": {},
   "source": [
    "## 2 Exploração e formatação de dados"
   ]
  },
  {
   "cell_type": "markdown",
   "id": "fa8709aa",
   "metadata": {},
   "source": [
    "### 2.1 Exploração"
   ]
  },
  {
   "cell_type": "code",
   "execution_count": 191,
   "id": "57bc51f4",
   "metadata": {},
   "outputs": [
    {
     "name": "stdout",
     "output_type": "stream",
     "text": [
      "<class 'pandas.core.frame.DataFrame'>\n",
      "RangeIndex: 999 entries, 0 to 998\n",
      "Data columns (total 16 columns):\n",
      " #   Column         Non-Null Count  Dtype  \n",
      "---  ------         --------------  -----  \n",
      " 0   id             999 non-null    int64  \n",
      " 1   Series_Title   999 non-null    object \n",
      " 2   Released_Year  999 non-null    object \n",
      " 3   Certificate    898 non-null    object \n",
      " 4   Runtime        999 non-null    object \n",
      " 5   Genre          999 non-null    object \n",
      " 6   IMDB_Rating    999 non-null    float64\n",
      " 7   Overview       999 non-null    object \n",
      " 8   Meta_score     842 non-null    float64\n",
      " 9   Director       999 non-null    object \n",
      " 10  Star1          999 non-null    object \n",
      " 11  Star2          999 non-null    object \n",
      " 12  Star3          999 non-null    object \n",
      " 13  Star4          999 non-null    object \n",
      " 14  No_of_Votes    999 non-null    int64  \n",
      " 15  Gross          830 non-null    object \n",
      "dtypes: float64(2), int64(2), object(12)\n",
      "memory usage: 125.0+ KB\n"
     ]
    }
   ],
   "source": [
    "series.info()"
   ]
  },
  {
   "cell_type": "markdown",
   "id": "634e420a",
   "metadata": {},
   "source": [
    "Nota-se a coluna responsável pelo ID, não identificada."
   ]
  },
  {
   "cell_type": "markdown",
   "id": "b5fe9ce3",
   "metadata": {},
   "source": [
    "Também é possível ver que as colunas Runtime, Released_year e Gross estão sendo carregadas com tipo não correspondente.\n",
    "\n",
    "- Runtime deveria ser int64 mas está como object, provavelmente por incluir \"min\" de minutos.\n",
    "- Released_year como são apenas números deveria ser carregado, também, como int64. \n",
    "- Gross, em pesquisa, é o faturamento apenas no EUA e Canadá, portanto é um valor que representa dólares, assim deveria ser carregado como int64 por não considerar flutuação de centavos. "
   ]
  },
  {
   "cell_type": "code",
   "execution_count": 192,
   "id": "2756e311",
   "metadata": {},
   "outputs": [
    {
     "data": {
      "text/plain": [
       "id                 0\n",
       "Series_Title       0\n",
       "Released_Year      0\n",
       "Certificate      101\n",
       "Runtime            0\n",
       "Genre              0\n",
       "IMDB_Rating        0\n",
       "Overview           0\n",
       "Meta_score       157\n",
       "Director           0\n",
       "Star1              0\n",
       "Star2              0\n",
       "Star3              0\n",
       "Star4              0\n",
       "No_of_Votes        0\n",
       "Gross            169\n",
       "dtype: int64"
      ]
     },
     "execution_count": 192,
     "metadata": {},
     "output_type": "execute_result"
    }
   ],
   "source": [
    "series.isnull().sum()"
   ]
  },
  {
   "cell_type": "markdown",
   "id": "dc753876",
   "metadata": {},
   "source": [
    "Tabelas como id, Series_Title e Overview possuem baixa influência, portanto não são necessárias. Series_title é apenas o título do filme e Overview se torna inútil com a existência da coluna Genre.\n",
    "\n",
    "Além disso, existem poucas linhas e colunas com valores nulos, portanto é possível limpá-los."
   ]
  },
  {
   "cell_type": "code",
   "execution_count": 193,
   "id": "fb4a5656",
   "metadata": {},
   "outputs": [
    {
     "data": {
      "text/plain": [
       "Certificate\n",
       "U           234\n",
       "A           196\n",
       "UA          175\n",
       "R           146\n",
       "PG-13        43\n",
       "PG           37\n",
       "Passed       34\n",
       "G            12\n",
       "Approved     11\n",
       "TV-PG         3\n",
       "GP            2\n",
       "TV-14         1\n",
       "Unrated       1\n",
       "TV-MA         1\n",
       "16            1\n",
       "U/A           1\n",
       "Name: count, dtype: int64"
      ]
     },
     "execution_count": 193,
     "metadata": {},
     "output_type": "execute_result"
    }
   ],
   "source": [
    "series['Certificate'].value_counts()"
   ]
  },
  {
   "cell_type": "markdown",
   "id": "f44e1b0e",
   "metadata": {},
   "source": [
    "É possível destacar a falta de especifidade devido a diferença de certificações por países, como é possível destacar em artigo publicado pelo IMDB - https://help.imdb.com/article/contribution/titles/certificates/GU757M8ZJ9ZPXB39?ref_=helpms_helpart_inline&utm_source=chatgpt.com#canada"
   ]
  },
  {
   "cell_type": "markdown",
   "id": "8a1d8dd0",
   "metadata": {},
   "source": [
    "Para resolver o problema é necessário adicionar uma coluna de severidade para a certificação, que ocorre de forma diferente para cada país mas possui a mesma lógica.\n",
    "\n",
    "Com isso, é possível criar uma coluna com o nível de severidade em escala \n",
    "de 0-10, abrangindo categorias como 12 e 12+ com severidade \n",
    "igual a 3 e 4 (exemplo) e equivalências entre países."
   ]
  },
  {
   "cell_type": "markdown",
   "id": "6641115d",
   "metadata": {},
   "source": [
    "Issues List\n",
    "- Corrigir coluna \"unnamed\" para \"id\". (alteração é necessária ser feita no arquivo .csv para identificação na formatação)\n",
    "- Limpar as colunas id, Series_Title e Overview\n",
    "- Eliminar linhas com valores nulos.\n",
    "- Corrigir os tipos das colunas Runtime, Released_year e Gross\n",
    "- Adicionar nova coluna de severidade para a certificação.\n",
    "- Converter as colunas para snake_case (boa prática)"
   ]
  },
  {
   "cell_type": "markdown",
   "id": "ddec07ba",
   "metadata": {},
   "source": [
    "### 2.2 Formatação dos dados"
   ]
  },
  {
   "cell_type": "markdown",
   "id": "3d8be7d4",
   "metadata": {},
   "source": [
    "- Converter as colunas é um bom início"
   ]
  },
  {
   "cell_type": "code",
   "execution_count": 194,
   "id": "9594d55d",
   "metadata": {},
   "outputs": [
    {
     "data": {
      "text/plain": [
       "Index(['id', 'series_title', 'released_year', 'certificate', 'runtime',\n",
       "       'genre', 'imdb_rating', 'overview', 'meta_score', 'director', 'star1',\n",
       "       'star2', 'star3', 'star4', 'no_of_votes', 'gross'],\n",
       "      dtype='object')"
      ]
     },
     "execution_count": 194,
     "metadata": {},
     "output_type": "execute_result"
    }
   ],
   "source": [
    "series.rename(lambda x: x.lower().strip().replace(\" \", \"_\"), axis='columns', inplace=True)\n",
    "\n",
    "series.columns"
   ]
  },
  {
   "cell_type": "markdown",
   "id": "39b15249",
   "metadata": {},
   "source": [
    "- Eliminar as linhas que possuem valores nulos"
   ]
  },
  {
   "cell_type": "code",
   "execution_count": 195,
   "id": "9ce8772a",
   "metadata": {},
   "outputs": [
    {
     "data": {
      "text/plain": [
       "id               0\n",
       "series_title     0\n",
       "released_year    0\n",
       "certificate      0\n",
       "runtime          0\n",
       "genre            0\n",
       "imdb_rating      0\n",
       "overview         0\n",
       "meta_score       0\n",
       "director         0\n",
       "star1            0\n",
       "star2            0\n",
       "star3            0\n",
       "star4            0\n",
       "no_of_votes      0\n",
       "gross            0\n",
       "dtype: int64"
      ]
     },
     "execution_count": 195,
     "metadata": {},
     "output_type": "execute_result"
    }
   ],
   "source": [
    "series = series.dropna()\n",
    "series.isnull().sum()"
   ]
  },
  {
   "cell_type": "markdown",
   "id": "9ad90472",
   "metadata": {},
   "source": [
    "- Eliminar colunas desnecessárias"
   ]
  },
  {
   "cell_type": "code",
   "execution_count": 196,
   "id": "21c991be",
   "metadata": {},
   "outputs": [],
   "source": [
    "to_drop = ['id', 'series_title', 'overview']\n",
    "series.drop(to_drop, axis='columns', inplace=True)"
   ]
  },
  {
   "cell_type": "markdown",
   "id": "a6d7427d",
   "metadata": {},
   "source": [
    "Afirmando o drop correto"
   ]
  },
  {
   "cell_type": "code",
   "execution_count": 197,
   "id": "406a29ec",
   "metadata": {},
   "outputs": [],
   "source": [
    "\n",
    "assert series.columns.all() not in to_drop"
   ]
  },
  {
   "cell_type": "markdown",
   "id": "40b5fe40",
   "metadata": {},
   "source": [
    "- Corrigir os tipos das colunas Runtime, Released_year e Gross"
   ]
  },
  {
   "cell_type": "markdown",
   "id": "c574bf8d",
   "metadata": {},
   "source": [
    "Convertendo tipo do **Runtime** para \"int64\"."
   ]
  },
  {
   "cell_type": "code",
   "execution_count": 198,
   "id": "c6b7b7ee",
   "metadata": {},
   "outputs": [],
   "source": [
    "series['runtime'] = pd.to_numeric(series['runtime'].str.replace(' min', ''), errors='coerce').astype('Int64')"
   ]
  },
  {
   "cell_type": "markdown",
   "id": "59bf6b38",
   "metadata": {},
   "source": [
    "Confirmando tipo correto para a coluna"
   ]
  },
  {
   "cell_type": "code",
   "execution_count": 199,
   "id": "1c5afb98",
   "metadata": {},
   "outputs": [
    {
     "data": {
      "text/plain": [
       "Int64Dtype()"
      ]
     },
     "execution_count": 199,
     "metadata": {},
     "output_type": "execute_result"
    }
   ],
   "source": [
    "series.runtime.dtypes"
   ]
  },
  {
   "cell_type": "markdown",
   "id": "490f5bce",
   "metadata": {},
   "source": [
    "- Convertendo o tipo de **gross** para int64."
   ]
  },
  {
   "cell_type": "code",
   "execution_count": 200,
   "id": "83234929",
   "metadata": {},
   "outputs": [],
   "source": [
    "series['gross'] = pd.to_numeric(series['gross'].str.replace('$', '').str.replace(',', ''), errors='coerce').astype('Int64')"
   ]
  },
  {
   "cell_type": "markdown",
   "id": "414eb573",
   "metadata": {},
   "source": [
    "Confirmando"
   ]
  },
  {
   "cell_type": "code",
   "execution_count": 201,
   "id": "e7fd5d6c",
   "metadata": {},
   "outputs": [
    {
     "data": {
      "text/plain": [
       "Int64Dtype()"
      ]
     },
     "execution_count": 201,
     "metadata": {},
     "output_type": "execute_result"
    }
   ],
   "source": [
    "series.gross.dtypes"
   ]
  },
  {
   "cell_type": "markdown",
   "id": "2962e86f",
   "metadata": {},
   "source": [
    "- Convertendo o tipo de **released_year** para int64."
   ]
  },
  {
   "cell_type": "code",
   "execution_count": 202,
   "id": "020da8b9",
   "metadata": {},
   "outputs": [],
   "source": [
    "series['released_year'] = pd.to_numeric(series['released_year'], errors='coerce').astype('Int64')"
   ]
  },
  {
   "cell_type": "markdown",
   "id": "c9fd86a8",
   "metadata": {},
   "source": [
    "Confirmando: "
   ]
  },
  {
   "cell_type": "code",
   "execution_count": 203,
   "id": "8218e752",
   "metadata": {},
   "outputs": [
    {
     "data": {
      "text/plain": [
       "Int64Dtype()"
      ]
     },
     "execution_count": 203,
     "metadata": {},
     "output_type": "execute_result"
    }
   ],
   "source": [
    "series.released_year.dtypes"
   ]
  },
  {
   "cell_type": "markdown",
   "id": "dd0f3379",
   "metadata": {},
   "source": [
    "- Última etapa é otimizar a coluna de certificações para nível de severidade 0-10"
   ]
  },
  {
   "cell_type": "markdown",
   "id": "4f19a1ec",
   "metadata": {},
   "source": [
    "Começamos entendendo quais certificações devemos otimizar"
   ]
  },
  {
   "cell_type": "code",
   "execution_count": 208,
   "id": "22d1953a",
   "metadata": {},
   "outputs": [
    {
     "data": {
      "text/plain": [
       "certificate\n",
       "U           183\n",
       "A           173\n",
       "UA          142\n",
       "R           131\n",
       "PG-13        38\n",
       "PG           19\n",
       "G             9\n",
       "Passed        9\n",
       "Approved      6\n",
       "TV-PG         1\n",
       "U/A           1\n",
       "GP            1\n",
       "Name: count, dtype: int64"
      ]
     },
     "execution_count": 208,
     "metadata": {},
     "output_type": "execute_result"
    }
   ],
   "source": [
    "series['certificate'].value_counts()"
   ]
  },
  {
   "cell_type": "markdown",
   "id": "5864f342",
   "metadata": {},
   "source": [
    "Baseado nas certificações do imdb anteriormente mencionada, podemos mapear numericamente."
   ]
  },
  {
   "cell_type": "code",
   "execution_count": 210,
   "id": "e6d0b1d2",
   "metadata": {},
   "outputs": [],
   "source": [
    "mapeamento_severidade = {\n",
    "    'G': 1,        # Audiência Geral\n",
    "    'U': 1,        # Universal \n",
    "    'Passed': 2,   # Antigo sistema\n",
    "    'Approved': 2, # Antigo sistema  \n",
    "    'PG': 3,       # Parental Guidance\n",
    "    'GP': 3,       # General/Parental\n",
    "    'TV-PG': 4,    # TV Parental\n",
    "    'PG-13': 5,    # 13+ anos\n",
    "    'UA': 6,       # Unrestricted Adult\n",
    "    'U/A': 6,      # Universal/Adult\n",
    "    'R': 8,        # Restricted (mais severo)\n",
    "    'A': 9         # Adults Only (máximo)\n",
    "}\n",
    "\n",
    "series['mapeamento_severidade'] = series['certificate'].map(mapeamento_severidade).astype('Int64')"
   ]
  },
  {
   "cell_type": "markdown",
   "id": "c9fde534",
   "metadata": {},
   "source": [
    "Confirmando:"
   ]
  },
  {
   "cell_type": "code",
   "execution_count": 214,
   "id": "62824c15",
   "metadata": {},
   "outputs": [],
   "source": [
    "assert series['mapeamento_severidade'].isnull().sum() == 0"
   ]
  },
  {
   "cell_type": "code",
   "execution_count": 215,
   "id": "dde4d9da",
   "metadata": {},
   "outputs": [
    {
     "data": {
      "text/plain": [
       "Index(['released_year', 'certificate', 'runtime', 'genre', 'imdb_rating',\n",
       "       'meta_score', 'director', 'star1', 'star2', 'star3', 'star4',\n",
       "       'no_of_votes', 'gross', 'mapeamento_severidade'],\n",
       "      dtype='object')"
      ]
     },
     "execution_count": 215,
     "metadata": {},
     "output_type": "execute_result"
    }
   ],
   "source": [
    "series.columns"
   ]
  },
  {
   "cell_type": "markdown",
   "id": "03b1139d",
   "metadata": {},
   "source": [
    "## 3. Univariate Exploration\n",
    "\n",
    "Com os dados formatados e limpos, é possível analisar estatisticamente."
   ]
  }
 ],
 "metadata": {
  "kernelspec": {
   "display_name": ".venv",
   "language": "python",
   "name": "python3"
  },
  "language_info": {
   "codemirror_mode": {
    "name": "ipython",
    "version": 3
   },
   "file_extension": ".py",
   "mimetype": "text/x-python",
   "name": "python",
   "nbconvert_exporter": "python",
   "pygments_lexer": "ipython3",
   "version": "3.13.5"
  }
 },
 "nbformat": 4,
 "nbformat_minor": 5
}
